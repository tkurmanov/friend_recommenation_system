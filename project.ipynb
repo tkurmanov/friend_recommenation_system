{
 "cells": [
  {
   "cell_type": "code",
   "execution_count": 33,
   "id": "86595793",
   "metadata": {},
   "outputs": [],
   "source": [
    "import warnings\n",
    "warnings.filterwarnings(\"ignore\")\n",
    "import csv\n",
    "import pandas as pd\n",
    "import datetime\n",
    "import time\n",
    "import numpy as np\n",
    "import matplotlib\n",
    "import seaborn as sns\n",
    "import math\n",
    "import os\n",
    "import xgboost as xgb\n",
    "import networkx as nx\n",
    "import pdb\n",
    "import pickle\n",
    "from pandas import HDFStore,DataFrame\n",
    "from scipy.sparse.linalg import svds, eigs\n",
    "import gc\n",
    "from tqdm import tqdm"
   ]
  },
  {
   "cell_type": "code",
   "execution_count": 34,
   "id": "c31a2b02",
   "metadata": {},
   "outputs": [
    {
     "name": "stdout",
     "output_type": "stream",
     "text": [
      "DiGraph with 1780722 nodes and 7550015 edges\n"
     ]
    }
   ],
   "source": [
    "train_graph = nx.read_edgelist('data/train_set.csv', delimiter = ',', create_using = nx.DiGraph(), nodetype = int)\n",
    "print(nx.info(train_graph))\n"
   ]
  },
  {
   "cell_type": "code",
   "execution_count": 20,
   "id": "25555f2c",
   "metadata": {},
   "outputs": [],
   "source": [
    "# 1. Jaccard distance similarity measure:\n",
    "\n",
    "def jaccard_for_followed(a,b):\n",
    "    try:\n",
    "        if len(set(train_graph.successors(a))) == 0  | len(set(train_graph.successors(b))) == 0:\n",
    "            return 0\n",
    "        dist = (len(set(train_graph.successors(a)).intersection(set(train_graph.successors(b)))))/\\\n",
    "                                    (len(set(train_graph.successors(a)).union(set(train_graph.successors(b)))))\n",
    "    except:\n",
    "        return 0\n",
    "    return dist"
   ]
  },
  {
   "cell_type": "code",
   "execution_count": 12,
   "id": "31dc7f7f",
   "metadata": {},
   "outputs": [
    {
     "name": "stdout",
     "output_type": "stream",
     "text": [
      "0.058823529411764705\n"
     ]
    }
   ],
   "source": [
    "print(jaccard_for_followed(912810,1678443))"
   ]
  },
  {
   "cell_type": "code",
   "execution_count": 9,
   "id": "e0601c0c",
   "metadata": {},
   "outputs": [],
   "source": [
    "def jaccard_for_following(a,b):\n",
    "    try:\n",
    "        if len(set(train_graph.predecessors(a))) == 0  | len(set(g.predecessors(b))) == 0:\n",
    "            return 0\n",
    "        dist = (len(set(train_graph.predecessors(a)).intersection(set(train_graph.predecessors(b)))))/\\\n",
    "                                 (len(set(train_graph.predecessors(a)).union(set(train_graph.predecessors(b)))))\n",
    "        return dist\n",
    "    except:\n",
    "        return 0"
   ]
  },
  {
   "cell_type": "code",
   "execution_count": 14,
   "id": "c9a879e4",
   "metadata": {},
   "outputs": [
    {
     "name": "stdout",
     "output_type": "stream",
     "text": [
      "0\n"
     ]
    }
   ],
   "source": [
    "print(jaccard_for_following(1722833,544361))"
   ]
  },
  {
   "cell_type": "code",
   "execution_count": 19,
   "id": "ff2e37fc",
   "metadata": {},
   "outputs": [],
   "source": [
    "# 2. Cosine distance similarity measure:\n",
    "def cosine_for_followed(a,b):\n",
    "    try:\n",
    "        if len(set(train_graph.successors(a))) == 0  | len(set(train_graph.successors(b))) == 0:\n",
    "            return 0\n",
    "        dist = (len(set(train_graph.successors(a)).intersection(set(train_graph.successors(b)))))/\\\n",
    "                                    (math.sqrt(len(set(train_graph.successors(a)))*len((set(train_graph.successors(b))))))\n",
    "        return dist\n",
    "    except:\n",
    "        return 0"
   ]
  },
  {
   "cell_type": "code",
   "execution_count": 16,
   "id": "d1f575de",
   "metadata": {},
   "outputs": [
    {
     "name": "stdout",
     "output_type": "stream",
     "text": [
      "0.0\n"
     ]
    }
   ],
   "source": [
    "print(cosine_for_followed(273084,1505602))"
   ]
  },
  {
   "cell_type": "code",
   "execution_count": 17,
   "id": "d2ade881",
   "metadata": {},
   "outputs": [],
   "source": [
    "def cosine_for_following(a,b):\n",
    "    try:  \n",
    "        if len(set(train_graph.predecessors(a))) == 0  | len(set(train_graph.predecessors(b))) == 0:\n",
    "            return 0\n",
    "        dist = (len(set(train_graph.predecessors(a)).intersection(set(train_graph.predecessors(b)))))/\\\n",
    "                                     (math.sqrt(len(set(train_graph.predecessors(a))))*(len(set(train_graph.predecessors(b)))))\n",
    "        return dist\n",
    "    except:\n",
    "        return 0"
   ]
  },
  {
   "cell_type": "code",
   "execution_count": 18,
   "id": "1d3179eb",
   "metadata": {},
   "outputs": [
    {
     "name": "stdout",
     "output_type": "stream",
     "text": [
      "0.02886751345948129\n"
     ]
    }
   ],
   "source": [
    "print(cosine_for_following(2,470294))"
   ]
  },
  {
   "cell_type": "code",
   "execution_count": 21,
   "id": "6e8a4a62",
   "metadata": {},
   "outputs": [],
   "source": [
    "# 3. Page ranking measure:\n",
    "rank = pickle.load(open('data/rank.p','rb'))"
   ]
  },
  {
   "cell_type": "code",
   "execution_count": 23,
   "id": "63130afe",
   "metadata": {},
   "outputs": [
    {
     "name": "stdout",
     "output_type": "stream",
     "text": [
      "min 1.6556497245737814e-07\n",
      "max 2.7098251341935827e-05\n",
      "mean 5.615699699389075e-07\n"
     ]
    }
   ],
   "source": [
    "print('min',rank[min(rank, key=rank.get)])\n",
    "print('max',rank[max(rank, key=rank.get)])\n",
    "print('mean',float(sum(rank.values())) / len(rank))"
   ]
  },
  {
   "cell_type": "code",
   "execution_count": 27,
   "id": "9779edec",
   "metadata": {},
   "outputs": [],
   "source": [
    "# Calculating shortest path between two nodes:\n",
    "def compute_shortest_path_length(a,b):\n",
    "    p = -1\n",
    "    try:\n",
    "        if train_graph.has_edge(a,b):\n",
    "            train_graph.remove_edge(a,b)\n",
    "            p = nx.shortest_path_length(train_graph,source = a,target = b)\n",
    "            train_graph.add_edge(a,b)\n",
    "        else:\n",
    "            p = nx.shortest_path_length(train_graph,source = a,target = b)\n",
    "        return p\n",
    "    except:\n",
    "        return -1"
   ]
  },
  {
   "cell_type": "code",
   "execution_count": 28,
   "id": "08fd04d0",
   "metadata": {},
   "outputs": [],
   "source": [
    "# 4. Checking for same community feature:\n",
    "wcc = list(nx.weakly_connected_components(train_graph))\n",
    "def belongs_to_same_wcc(a,b):\n",
    "    index = []\n",
    "    if train_graph.has_edge(b,a):\n",
    "        return 1\n",
    "    if train_graph.has_edge(a,b):\n",
    "            for i in wcc:\n",
    "                if a in i:\n",
    "                    index = i\n",
    "                    break\n",
    "            if (b in index):\n",
    "                train_graph.remove_edge(a,b)\n",
    "                if compute_shortest_path_length(a,b) == -1:\n",
    "                    train_graph.add_edge(a,b)\n",
    "                    return 0\n",
    "                else:\n",
    "                    train_graph.add_edge(a,b)\n",
    "                    return 1\n",
    "            else:\n",
    "                return 0\n",
    "    else:\n",
    "            for i in wcc:\n",
    "                if a in i:\n",
    "                    index = i\n",
    "                    break\n",
    "            if(b in index):\n",
    "                return 1\n",
    "            else:\n",
    "                return 0"
   ]
  },
  {
   "cell_type": "code",
   "execution_count": 29,
   "id": "cbb8f1b1",
   "metadata": {},
   "outputs": [
    {
     "data": {
      "text/plain": [
       "0"
      ]
     },
     "execution_count": 29,
     "metadata": {},
     "output_type": "execute_result"
    }
   ],
   "source": [
    "belongs_to_same_wcc(861, 1659750)"
   ]
  },
  {
   "cell_type": "code",
   "execution_count": 30,
   "id": "8dfb1220",
   "metadata": {},
   "outputs": [],
   "source": [
    "# 5. Adamic/Adar index\n",
    "def adamic_adar(a,b):\n",
    "    sum = 0\n",
    "    try:\n",
    "        n = list(set(train_graph.successors(a)).intersection(set(train_graph.successors(b))))\n",
    "        if len(n) != 0:\n",
    "            for i in n:\n",
    "                sum = sum + (1/np.log10(len(list(train_graph.predecessors(i)))))\n",
    "            return sum\n",
    "        else:\n",
    "            return 0\n",
    "    except:\n",
    "        return 0"
   ]
  },
  {
   "cell_type": "code",
   "execution_count": 32,
   "id": "e1075d0c",
   "metadata": {},
   "outputs": [
    {
     "data": {
      "text/plain": [
       "2.9284406484993215"
      ]
     },
     "execution_count": 32,
     "metadata": {},
     "output_type": "execute_result"
    }
   ],
   "source": [
    "adamic_adar(582634,1048523)"
   ]
  },
  {
   "cell_type": "code",
   "execution_count": null,
   "id": "18d73c24",
   "metadata": {},
   "outputs": [],
   "source": []
  }
 ],
 "metadata": {
  "kernelspec": {
   "display_name": "Python 3 (ipykernel)",
   "language": "python",
   "name": "python3"
  },
  "language_info": {
   "codemirror_mode": {
    "name": "ipython",
    "version": 3
   },
   "file_extension": ".py",
   "mimetype": "text/x-python",
   "name": "python",
   "nbconvert_exporter": "python",
   "pygments_lexer": "ipython3",
   "version": "3.9.7"
  }
 },
 "nbformat": 4,
 "nbformat_minor": 5
}
